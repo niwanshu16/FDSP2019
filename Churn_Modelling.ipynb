{
  "nbformat": 4,
  "nbformat_minor": 0,
  "metadata": {
    "colab": {
      "name": "Churn_Modelling.ipynb",
      "version": "0.3.2",
      "provenance": [],
      "private_outputs": true,
      "collapsed_sections": [],
      "include_colab_link": true
    },
    "kernelspec": {
      "name": "python3",
      "display_name": "Python 3"
    },
    "accelerator": "GPU"
  },
  "cells": [
    {
      "cell_type": "markdown",
      "metadata": {
        "id": "view-in-github",
        "colab_type": "text"
      },
      "source": [
        "<a href=\"https://colab.research.google.com/github/niwanshu16/FDSP2019/blob/master/Churn_Modelling.ipynb\" target=\"_parent\"><img src=\"https://colab.research.google.com/assets/colab-badge.svg\" alt=\"Open In Colab\"/></a>"
      ]
    },
    {
      "cell_type": "code",
      "metadata": {
        "id": "5P5zsiRo-dta",
        "colab_type": "code",
        "colab": {}
      },
      "source": [
        "from google.colab import drive\n",
        "drive.mount('/content/drive')"
      ],
      "execution_count": 0,
      "outputs": []
    },
    {
      "cell_type": "code",
      "metadata": {
        "id": "1p4Nit8hMVmG",
        "colab_type": "code",
        "colab": {}
      },
      "source": [
        "import os\n",
        "os.getcwd()"
      ],
      "execution_count": 0,
      "outputs": []
    },
    {
      "cell_type": "code",
      "metadata": {
        "id": "B7mqtOo8Mbzc",
        "colab_type": "code",
        "colab": {}
      },
      "source": [
        "os.chdir('/content/drive/My Drive/DeepLearning')\n"
      ],
      "execution_count": 0,
      "outputs": []
    },
    {
      "cell_type": "code",
      "metadata": {
        "id": "RPIkCeE0NCRa",
        "colab_type": "code",
        "colab": {}
      },
      "source": [
        "os.getcwd()"
      ],
      "execution_count": 0,
      "outputs": []
    },
    {
      "cell_type": "code",
      "metadata": {
        "id": "vFN1b_cuNYzq",
        "colab_type": "code",
        "colab": {}
      },
      "source": [
        "import pandas as pd\n",
        "dataset = pd.read_csv('Churn_Modelling.csv')"
      ],
      "execution_count": 0,
      "outputs": []
    },
    {
      "cell_type": "code",
      "metadata": {
        "id": "LHVVE5wrhMz3",
        "colab_type": "code",
        "colab": {}
      },
      "source": [
        "import numpy as np"
      ],
      "execution_count": 0,
      "outputs": []
    },
    {
      "cell_type": "code",
      "metadata": {
        "id": "98ETF3VcgQHA",
        "colab_type": "code",
        "colab": {}
      },
      "source": [
        "'''Geography: France\n",
        "        Credit Score: 600\n",
        "        Gender: Male\n",
        "        Age: 40 years old\n",
        "        Tenure: 3 years\n",
        "        Balance: $60000\n",
        "        Number of Products: 2\n",
        "        Does this customer have a credit card? Yes\n",
        "        Is this customer an Active Member: Yes?\n",
        "        Estimated Salary: $50000'''\n",
        "predict = [600,'France' , 0 , 40 , 3, 60000 , 2 , 1 , 1 , 50000]\n",
        "predict = np.array(predict).reshape(1,-1)\n",
        "predict"
      ],
      "execution_count": 0,
      "outputs": []
    },
    {
      "cell_type": "code",
      "metadata": {
        "id": "258RLVKwNu7O",
        "colab_type": "code",
        "colab": {}
      },
      "source": [
        "def f(x):\n",
        "    if x=='Male':\n",
        "        return 0\n",
        "    else:\n",
        "        return 1\n",
        "dataset['Gender'] = dataset['Gender'].map(f)\n",
        "features = dataset.iloc[:,3:13].values\n",
        "labels = dataset.iloc[:,-1].values\n",
        "\n",
        "from sklearn.preprocessing import LabelEncoder , OneHotEncoder\n",
        "encoder = LabelEncoder()\n",
        "features[:,1] = encoder.fit_transform(features[:,1])\n",
        "predict[:,1] = encoder.transform(predict[:,1])\n",
        "#features[:,2] = encoder.fit_transform(features[:,2])\n",
        "ohc = OneHotEncoder(categorical_features = [1])\n",
        "features = ohc.fit_transform(features).toarray()\n",
        "predict = ohc.transform(predict).toarray()\n",
        "features = features[:,1:]\n",
        "predict = predict[:,1:]\n",
        "\n",
        "# Applying Feature Scaling\n",
        "\n",
        "from sklearn.preprocessing import StandardScaler\n",
        "sc = StandardScaler()\n",
        "features = sc.fit_transform(features)\n",
        "predict = sc.transform(predict)"
      ],
      "execution_count": 0,
      "outputs": []
    },
    {
      "cell_type": "code",
      "metadata": {
        "id": "GdnwK-RSiR-z",
        "colab_type": "code",
        "colab": {}
      },
      "source": [
        ""
      ],
      "execution_count": 0,
      "outputs": []
    },
    {
      "cell_type": "code",
      "metadata": {
        "id": "YDb7yyB-VV2b",
        "colab_type": "code",
        "colab": {}
      },
      "source": [
        "predict[0]"
      ],
      "execution_count": 0,
      "outputs": []
    },
    {
      "cell_type": "code",
      "metadata": {
        "id": "wc0kB6sBcJ2O",
        "colab_type": "code",
        "colab": {}
      },
      "source": [
        "from sklearn.model_selection import train_test_split\n",
        "X_train,X_test,y_train,y_test = train_test_split(features , labels , test_size = 0.2 , random_state = 0)\n"
      ],
      "execution_count": 0,
      "outputs": []
    },
    {
      "cell_type": "code",
      "metadata": {
        "id": "9UNqyPajc0c_",
        "colab_type": "code",
        "colab": {}
      },
      "source": [
        "import keras\n",
        "from keras.layers import Dense\n",
        "from keras.models import Sequential"
      ],
      "execution_count": 0,
      "outputs": []
    },
    {
      "cell_type": "code",
      "metadata": {
        "id": "wElFUK3nc_Xe",
        "colab_type": "code",
        "colab": {}
      },
      "source": [
        "classifier = Sequential()"
      ],
      "execution_count": 0,
      "outputs": []
    },
    {
      "cell_type": "code",
      "metadata": {
        "id": "HVTwKoGcdTzo",
        "colab_type": "code",
        "colab": {}
      },
      "source": [
        "features.shape\n",
        "predict.shape"
      ],
      "execution_count": 0,
      "outputs": []
    },
    {
      "cell_type": "code",
      "metadata": {
        "id": "jb5xm5B-dXte",
        "colab_type": "code",
        "colab": {}
      },
      "source": [
        "# Adding the first adding layer\n",
        "classifier.add(Dense(units = 6 , kernel_initializer = 'uniform' , activation = 'relu' , input_dim =11))\n",
        "#Adding the second hidden layer\n",
        "classifier.add(Dense(units = 6 , kernel_initializer = 'uniform' , activation = 'relu'))\n",
        "# Adding the output layer \n",
        "classifier.add(Dense(units = 1 , kernel_initializer = 'uniform' , activation = 'sigmoid'))\n",
        "# Compiling the ANN\n",
        "classifier.compile(optimizer = 'adam' , loss = 'binary_crossentropy' , metrics = ['accuracy'])"
      ],
      "execution_count": 0,
      "outputs": []
    },
    {
      "cell_type": "code",
      "metadata": {
        "id": "2OqMm2wIeUVD",
        "colab_type": "code",
        "colab": {}
      },
      "source": [
        ""
      ],
      "execution_count": 0,
      "outputs": []
    },
    {
      "cell_type": "code",
      "metadata": {
        "id": "6wmJvMvOfUx5",
        "colab_type": "code",
        "colab": {}
      },
      "source": [
        "classifier.fit(X_train,y_train,batch_size = 10 , epochs = 100)"
      ],
      "execution_count": 0,
      "outputs": []
    },
    {
      "cell_type": "code",
      "metadata": {
        "id": "aIoQL-GaoAy1",
        "colab_type": "code",
        "colab": {}
      },
      "source": [
        "# Serialize model to json\n",
        "classifier_json = classifier.to_json()\n",
        "with open('classifier.json' , 'w') as json_file:\n",
        "  json_file.write(classifier_json)\n",
        " \n",
        "# Serialize weights to hdf5\n",
        "classifier.save_weights('classifier.h5')\n",
        "print('Saved model to disk')"
      ],
      "execution_count": 0,
      "outputs": []
    },
    {
      "cell_type": "code",
      "metadata": {
        "id": "kBRxAV3qtC_m",
        "colab_type": "code",
        "colab": {}
      },
      "source": [
        "# Load model from disk\n",
        "from keras.models import model_from_json\n",
        "json_file = open('classifier.json' , 'r')\n",
        "loaded_model_json = json_file.read()\n",
        "json_file.close()\n",
        "\n",
        "classifier = model_from_json(loaded_model_json)\n",
        "classifier.load_weights('classifier.h5')\n",
        "\n",
        "print('Loaded from disk')"
      ],
      "execution_count": 0,
      "outputs": []
    },
    {
      "cell_type": "code",
      "metadata": {
        "id": "TPs_OYjafiXe",
        "colab_type": "code",
        "colab": {}
      },
      "source": [
        "ann_pred = classifier.predict(X_test)\n",
        "ann_pred = (ann_pred>0.5)"
      ],
      "execution_count": 0,
      "outputs": []
    },
    {
      "cell_type": "code",
      "metadata": {
        "id": "FJ05pGYSgAXB",
        "colab_type": "code",
        "colab": {}
      },
      "source": [
        "from sklearn.metrics import confusion_matrix , accuracy_score\n",
        "cm = confusion_matrix(y_test , ann_pred)\n",
        "score_ann = accuracy_score(y_test , ann_pred)"
      ],
      "execution_count": 0,
      "outputs": []
    },
    {
      "cell_type": "code",
      "metadata": {
        "id": "zIOO0BaDvEyG",
        "colab_type": "code",
        "colab": {}
      },
      "source": [
        "cm"
      ],
      "execution_count": 0,
      "outputs": []
    },
    {
      "cell_type": "code",
      "metadata": {
        "id": "cq5rWgp_gBZx",
        "colab_type": "code",
        "colab": {}
      },
      "source": [
        "result = classifier.predict(predict)"
      ],
      "execution_count": 0,
      "outputs": []
    },
    {
      "cell_type": "code",
      "metadata": {
        "id": "MA1ruG4yiCo9",
        "colab_type": "code",
        "colab": {}
      },
      "source": [
        "result\n",
        "print(score_ann)"
      ],
      "execution_count": 0,
      "outputs": []
    },
    {
      "cell_type": "code",
      "metadata": {
        "id": "udX4wKfAm9C0",
        "colab_type": "code",
        "colab": {}
      },
      "source": [
        "#Evaluating the ANN\n",
        "from keras.wrappers.scikit_learn import KerasClassifier\n",
        "from sklearn.model_selection import cross_val_score\n",
        "from keras.layers import Dropout\n",
        "\n",
        "def build_classifier():\n",
        "    classifier = Sequential()\n",
        "    # Adding 1st layer\n",
        "    classifier.add(Dense(output_dim = 6 , activation='relu' , init = 'uniform', input_dim = 11 ))\n",
        "    classifier.add(Dropout(0.2))\n",
        "    # Adding 2nd layer\n",
        "    classifier.add(Dense(output_dim = 6 , activation='relu' , init = 'uniform' ))\n",
        "    classifier.add(Dropout(0.2))\n",
        "    # Adding final layer \n",
        "    classifier.add(Dense(output_dim = 1 , init = 'uniform' , activation = 'sigmoid'))\n",
        "    # Compiling the classifier\n",
        "    classifier.compile(optimizer = 'adam' , metrics = ['accuracy'] , loss = 'binary_crossentropy')\n",
        "    return classifier\n",
        "\n",
        "classifier = KerasClassifier(build_fn = build_classifier , batch_size = 10 , nb_epoch = 100)\n",
        "accuracies = cross_val_score(estimator = classifier , X = X_train , y = y_train , cv=10 , n_jobs = -1)\n",
        "\n"
      ],
      "execution_count": 0,
      "outputs": []
    },
    {
      "cell_type": "code",
      "metadata": {
        "id": "nZ8b0HNZlubV",
        "colab_type": "code",
        "colab": {}
      },
      "source": [
        "accuracies"
      ],
      "execution_count": 0,
      "outputs": []
    },
    {
      "cell_type": "code",
      "metadata": {
        "id": "6QZ66oJKlwoy",
        "colab_type": "code",
        "colab": {}
      },
      "source": [
        "mean = accuracies.mean()\n",
        "variance = accuracies.std()"
      ],
      "execution_count": 0,
      "outputs": []
    },
    {
      "cell_type": "code",
      "metadata": {
        "id": "oTRj-tRpJFTt",
        "colab_type": "code",
        "colab": {}
      },
      "source": [
        "# Tuning the ANN\n",
        "from keras.wrappers.scikit_learn import KerasClassifier\n",
        "from sklearn.model_selection import GridSearchCV\n",
        "from keras.layers import Dropout\n",
        "\n",
        "def build_classifier(optimizer):\n",
        "    classifier = Sequential()\n",
        "    # Adding 1st layer\n",
        "    classifier.add(Dense(output_dim = 6 , activation='relu' , init = 'uniform', input_dim = 11 ))\n",
        "    classifier.add(Dropout(0.2))\n",
        "    # Adding 2nd layer\n",
        "    classifier.add(Dense(output_dim = 6 , activation='relu' , init = 'uniform' ))\n",
        "    classifier.add(Dropout(0.2))\n",
        "    # Adding final layer \n",
        "    classifier.add(Dense(output_dim = 1 , init = 'uniform' , activation = 'sigmoid'))\n",
        "    # Compiling the classifier\n",
        "    classifier.compile(optimizer = 'adam' , metrics = ['accuracy'] , loss = 'binary_crossentropy')\n",
        "    return classifier\n",
        "\n",
        "classifier = KerasClassifier(build_fn = build_classifier)\n",
        "parameters = {'nb_epoch' :[100,500] , \n",
        "              'optimizer' :['adam' , 'rmsprop'],\n",
        "              'batch_size' : [25,32] }\n",
        "gridsearch = GridSearchCV(estimator = classifier , \n",
        "                          param_grid = parameters ,\n",
        "                          scoring = 'accuracy',\n",
        "                          cv = 10)\n",
        "gridsearch = gridsearch.fit(X_train,y_train)\n",
        "best_parameters = gridsearch.best_params_\n",
        "best_accuracy = gridsearch.best_score_"
      ],
      "execution_count": 0,
      "outputs": []
    },
    {
      "cell_type": "code",
      "metadata": {
        "id": "svWRh91bmFmW",
        "colab_type": "code",
        "colab": {}
      },
      "source": [
        "print(best_parameters)\n",
        "best_accuracy"
      ],
      "execution_count": 0,
      "outputs": []
    },
    {
      "cell_type": "code",
      "metadata": {
        "id": "O4fDJVT7z5HL",
        "colab_type": "code",
        "colab": {}
      },
      "source": [
        ""
      ],
      "execution_count": 0,
      "outputs": []
    }
  ]
}